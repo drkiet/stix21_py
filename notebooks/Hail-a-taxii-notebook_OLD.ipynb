{
 "cells": [
  {
   "cell_type": "markdown",
   "metadata": {},
   "source": [
    "# Hail-a-TAXII Notebook\n",
    "This notebook contains Python script interaction with hailataxii.com website:\n",
    "\n",
    "```bash\n",
    "curl --location --request POST 'http://hailataxii.com/taxii-discovery-service' \\\n",
    "--header 'X-TAXII-Content-Type: urn:taxii.mitre.org:message:xml:1.1' \\\n",
    "--header 'X-TAXII-Accept: urn:taxii.mitre.org:message:xml:1.1' \\\n",
    "--header 'X-TAXII-Services: urn:taxii.mitre.org:services:1.1' \\\n",
    "--header 'X-TAXII-Protocol: urn:taxii.mitre.org:protocol:http:1.0' \\\n",
    "--header 'Content-Type: application/xml' \\\n",
    "--data-raw '<Discovery_Request xmlns=\"http://taxii.mitre.org/messages/taxii_xml_binding-1.1\" message_id=\"1\"/>'\n",
    "```\n",
    "\n",
    "May need to run as this: `jupyter notebook --NotebookApp.iopub_data_rate_limit=1.0e10`"
   ]
  },
  {
   "cell_type": "code",
   "execution_count": null,
   "metadata": {},
   "outputs": [],
   "source": [
    "import requests\n",
    "import re, string\n",
    "from xml.dom import minidom\n",
    "import datetime\n",
    "import xml.dom.minidom as dom\n",
    "from datetime import datetime, timedelta\n",
    "\n",
    "from pyspark import SparkContext, SparkConf\n",
    "from pyspark.sql import SparkSession\n",
    "import pandas as pandas"
   ]
  },
  {
   "cell_type": "code",
   "execution_count": null,
   "metadata": {},
   "outputs": [],
   "source": [
    "spark = SparkSession.builder.appName('TAXII 1.1 Notebook').getOrCreate()\n",
    "sc    = spark.sparkContext"
   ]
  },
  {
   "cell_type": "code",
   "execution_count": null,
   "metadata": {},
   "outputs": [],
   "source": [
    "def get_discovery_url():\n",
    "    return 'http://hailataxii.com/taxii-discovery-service'"
   ]
  },
  {
   "cell_type": "code",
   "execution_count": null,
   "metadata": {},
   "outputs": [],
   "source": [
    "def get_poll_url():\n",
    "    return 'http://hailataxii.com/taxii-data'"
   ]
  },
  {
   "cell_type": "code",
   "execution_count": null,
   "metadata": {},
   "outputs": [],
   "source": [
    "def remove_xmlns(xml):\n",
    "    reg = \"(?<=%s).*?(?=%s)\" % ('{','}')\n",
    "    r = re.compile(reg,re.DOTALL)\n",
    "    return r.sub('', xml).replace('{}','')\n"
   ]
  },
  {
   "cell_type": "code",
   "execution_count": null,
   "metadata": {},
   "outputs": [],
   "source": [
    "def get_req_headers():\n",
    "    return {'Content-type':'application/xml',\n",
    "            'X-TAXII-Content-Type':'urn:taxii.mitre.org:message:xml:1.1',\n",
    "            'X-TAXII-Accept':'urn:taxii.mitre.org:message:xml:1.1',\n",
    "            'X-TAXII-Services':'urn:taxii.mitre.org:services:1.1',\n",
    "            'X-TAXII-Protocol':'urn:taxii.mitre.org:protocol:http:1.0'}"
   ]
  },
  {
   "cell_type": "code",
   "execution_count": null,
   "metadata": {},
   "outputs": [],
   "source": [
    "def get_discovery_data():\n",
    "    document = dom.Document()\n",
    "    root = document.createElementNS('xmlns:taxii_11','taxii_11:Discovery_Request')\n",
    "    root.setAttribute('xmlns:taxii_11','http://taxii.mitre.org/messages/taxii_xml_binding-1.1')\n",
    "    root.setAttribute('message_id','1')\n",
    "    return root.toprettyxml()"
   ]
  },
  {
   "cell_type": "code",
   "execution_count": null,
   "metadata": {},
   "outputs": [],
   "source": [
    "# <taxii_11:Collection_Information_Request xmlns:taxii_11=\"http://taxii.mitre.org/messages/taxii_xml_binding-1.1\" \n",
    "# message_id=\"26300\"/>\n",
    "def get_collection_request(msg_id):\n",
    "    document = dom.Document()\n",
    "    root = document.createElementNS('xmlns:taxii_11','taxii_11:Collection_Information_Request')\n",
    "    root.setAttribute('xmlns:taxii_11','http://taxii.mitre.org/messages/taxii_xml_binding-1.1')\n",
    "    root.setAttribute('message_id',str(msg_id))\n",
    "    return root.toprettyxml()"
   ]
  },
  {
   "cell_type": "code",
   "execution_count": null,
   "metadata": {},
   "outputs": [],
   "source": [
    "xmlns_binding = 'http://taxii.mitre.org/messages/taxii_xml_binding-1.1'\n",
    "xmlns_taxii_11 = 'xmlns:taxii_11'\n",
    "def get_poll_request(begin_time, end_time, collection_name, sync, resp_type):\n",
    "    document = dom.Document()\n",
    "    root = document.createElementNS(xmlns_binding,'taxii_11:Poll_Request')\n",
    "    root.setAttribute(xmlns_taxii_11,xmlns_binding)\n",
    "    root.setAttribute('message_id','1')\n",
    "    root.setAttribute('collection_name',collection_name)\n",
    "    \n",
    "    elem = document.createElementNS(xmlns_binding,'taxii_11:Exclusive_Begin_Timestamp')\n",
    "    text = document.createTextNode(begin_time.replace(hour=0, minute=0, second=0, microsecond=0).isoformat()+'Z')\n",
    "    elem.appendChild(text)\n",
    "    root.appendChild(elem)\n",
    "\n",
    "    elem = document.createElementNS(xmlns_binding,'taxii_11:Inclusive_End_Timestamp')\n",
    "    text = document.createTextNode(end_time.replace(hour=0, minute=0, second=0, microsecond=0).isoformat()+'Z')\n",
    "    elem.appendChild(text)\n",
    "    root.appendChild(elem)\n",
    "\n",
    "    elem = document.createElementNS(xmlns_binding,'taxii_11:Poll_Parameters')\n",
    "    elem.setAttribute('allow_asynch', str(sync).lower())\n",
    "    resp_type_elem = document.createElementNS(xmlns_binding,'taxii_11:Response_Type')\n",
    "    text = document.createTextNode(resp_type)\n",
    "    resp_type_elem.appendChild(text)\n",
    "    elem.appendChild(resp_type_elem)\n",
    "    root.appendChild(elem)\n",
    "    \n",
    "    return root.toprettyxml()"
   ]
  },
  {
   "cell_type": "code",
   "execution_count": null,
   "metadata": {},
   "outputs": [],
   "source": [
    "def get_content_blocks(root):\n",
    "    content_blocks = []\n",
    "    for i in range(0,len(root.childNodes)):\n",
    "        node = root.childNodes[i]\n",
    "        if node.nodeType != node.TEXT_NODE:\n",
    "            if node.tagName == 'taxii_11:Content_Block':\n",
    "                content_blocks.append(node)\n",
    "    return content_blocks\n",
    "\n",
    "def get_contents(content_block):\n",
    "    contents = []\n",
    "    for i in range(0,len(content_block.childNodes)):\n",
    "        node = content_block.childNodes[i]\n",
    "        if node.nodeType != node.TEXT_NODE:\n",
    "            if node.tagName == 'taxii_11:Content':\n",
    "                contents.append(node)\n",
    "    return contents\n",
    "\n",
    "def get_stixes(content):\n",
    "    stixes = []\n",
    "    for i in range(0,len(content.childNodes)):\n",
    "        node = content.childNodes[i]\n",
    "        if node.nodeType != node.TEXT_NODE:\n",
    "            if node.tagName == 'stix:STIX_Package':\n",
    "                stixes.append(node)\n",
    "    return stixes"
   ]
  },
  {
   "cell_type": "code",
   "execution_count": null,
   "metadata": {},
   "outputs": [],
   "source": [
    "# discovery_data = '<Discovery_Request xmlns=\"http://taxii.mitre.org/messages/taxii_xml_binding-1.1\" message_id=\"1\"/>'\n",
    "req_headers = get_req_headers()\n",
    "discovery_data = get_discovery_data()\n",
    "print(discovery_data)"
   ]
  },
  {
   "cell_type": "code",
   "execution_count": null,
   "metadata": {},
   "outputs": [],
   "source": [
    "# Invoke discovery service ...\n",
    "resp = requests.post(get_discovery_url(), data=get_discovery_data(), headers=get_req_headers())\n",
    "resp"
   ]
  },
  {
   "cell_type": "code",
   "execution_count": null,
   "metadata": {},
   "outputs": [],
   "source": [
    "import pandas as pandas\n",
    "cookies = []\n",
    "for cookie in resp.cookies:\n",
    "    cookies.append(cookie)\n",
    "    \n",
    "resp_list = []\n",
    "resp_list.append(['apparent_encoding',resp.apparent_encoding])\n",
    "resp_list.append(['content',str(resp.content)])\n",
    "resp_list.append(['cookies',str(cookies)])\n",
    "resp_list.append(['elapsed',str(resp.elapsed)])\n",
    "resp_list.append(['headers',str(resp.headers)])\n",
    "resp_list.append(['encoding',resp.encoding])\n",
    "resp_list.append(['history',str(resp.history)])\n",
    "resp_list.append(['is_permanent_redirect',str(resp.is_permanent_redirect)])\n",
    "resp_list.append(['is_redirect',str(resp.is_redirect)])\n",
    "resp_list.append(['links',str(resp.links)])\n",
    "resp_list.append(['next',str(resp.next)])\n",
    "resp_list.append(['ok',str(resp.ok)])\n",
    "resp_list.append(['reason',str(resp.reason)])\n",
    "resp_list.append(['request',str(resp.request)])\n",
    "resp_list.append(['request.body',str(resp.request.body)])\n",
    "resp_list.append(['request.copy',str(resp.request.copy)])\n",
    "resp_list.append(['request.deregister_hook',str(resp.request.deregister_hook)])\n",
    "resp_list.append(['request.headers',str(resp.request.headers)])\n",
    "resp_list.append(['request.hooks',str(resp.request.hooks)])\n",
    "resp_list.append(['request.path_url',str(resp.request.path_url)])\n",
    "resp_list.append(['request.prepare',str(resp.request.prepare)])\n",
    "resp_list.append(['request.prepare_auth',str(resp.request.prepare_auth)])\n",
    "resp_list.append(['request.prepare_body',str(resp.request.prepare_body)])\n",
    "resp_list.append(['request.prepare_content_length',str(resp.request.prepare_content_length)])\n",
    "resp_list.append(['request.prepare_cookies',str(resp.request.prepare_cookies)])\n",
    "resp_list.append(['request.prepare_headers',str(resp.request.prepare_headers)])\n",
    "resp_list.append(['request.prepare_hooks',str(resp.request.prepare_hooks)])\n",
    "resp_list.append(['request.prepare_method',str(resp.request.prepare_method)])\n",
    "resp_list.append(['request.prepare_url',str(resp.request.prepare_url)])\n",
    "resp_list.append(['request.register_hook',str(resp.request.register_hook)])\n",
    "resp_list.append(['status_code',str(resp.status_code)])\n",
    "resp_list.append(['text',str(resp.text)])\n",
    "resp_list.append(['url',str(resp.url)])\n",
    "\n",
    "resp_list\n",
    "\n",
    "pd_resp = spark.createDataFrame(resp_list).toPandas()\n",
    "# pd_resp = spark.createDataFrame(list(resp_list)).toPandas()\n",
    "pd_resp\n"
   ]
  },
  {
   "cell_type": "code",
   "execution_count": null,
   "metadata": {
    "scrolled": true
   },
   "outputs": [],
   "source": [
    "resp_xml = dom.parseString(resp.content).documentElement\n",
    "print(resp_xml.toprettyxml(indent='  '))\n"
   ]
  },
  {
   "cell_type": "code",
   "execution_count": null,
   "metadata": {},
   "outputs": [],
   "source": [
    "request_data = get_collection_request(26300)\n",
    "data_url = get_poll_url()\n",
    "print(request_data)\n",
    "print(data_url)\n",
    "resp = requests.post(data_url, data=request_data, headers=get_req_headers())\n",
    "resp"
   ]
  },
  {
   "cell_type": "code",
   "execution_count": null,
   "metadata": {},
   "outputs": [],
   "source": [
    "resp_xml = dom.parseString(resp.content).documentElement\n",
    "print(resp_xml.toprettyxml(indent='  '))"
   ]
  },
  {
   "cell_type": "code",
   "execution_count": null,
   "metadata": {},
   "outputs": [],
   "source": [
    "def get_poll_request(begin_time, end_time, collection_name, sync, resp_type):\n",
    "    document = dom.Document()\n",
    "    root = document.createElementNS('xmlns:taxii_11','taxii_11:Poll_Request')\n",
    "    root.setAttribute('xmlns:taxii_11','http://taxii.mitre.org/messages/taxii_xml_binding-1.1')\n",
    "    root.setAttribute('message_id','1')\n",
    "    root.setAttribute('collection_name',collection_name)\n",
    "    \n",
    "    elem = document.createElementNS('xmlns:taxii_11','taxii_11:Exclusive_Begin_Timestamp')\n",
    "    text = document.createTextNode(begin_time.replace(hour=0, minute=0, second=0, microsecond=0).isoformat()+'Z')\n",
    "    elem.appendChild(text)\n",
    "    root.appendChild(elem)\n",
    "\n",
    "    elem = document.createElementNS('xmlns:taxii_11','taxii_11:Inclusive_End_Timestamp')\n",
    "    text = document.createTextNode(end_time.replace(hour=0, minute=0, second=0, microsecond=0).isoformat()+'Z')\n",
    "    elem.appendChild(text)\n",
    "    root.appendChild(elem)\n",
    "\n",
    "    elem = document.createElementNS('xmlns:taxii_11','taxii_11:Poll_Parameters')\n",
    "    elem.setAttribute('allow_asynch', str(sync))\n",
    "    resp_type_elem = document.createElementNS('xmlns:taxii_11','taxii_11:Response_Type')\n",
    "    text = document.createTextNode(resp_type)\n",
    "    resp_type_elem.appendChild(text)\n",
    "    elem.appendChild(resp_type_elem)\n",
    "    root.appendChild(elem)\n",
    "    \n",
    "    return root.toprettyxml()"
   ]
  },
  {
   "cell_type": "code",
   "execution_count": null,
   "metadata": {},
   "outputs": [],
   "source": [
    "\n",
    "today = datetime.today()\n",
    "yesterday = today + timedelta(days=-2)\n",
    "print (yesterday, today)\n",
    "\n",
    "poll_request = get_poll_request(yesterday, today, 'guest.dataForLast_7daysOnly', False, 'FULL')\n",
    "print(poll_request)\n"
   ]
  },
  {
   "cell_type": "code",
   "execution_count": null,
   "metadata": {},
   "outputs": [],
   "source": [
    "# get content collection \n",
    "resp = requests.post(get_poll_url(), data=poll_request, headers=get_req_headers())\n",
    "resp.content\n"
   ]
  },
  {
   "cell_type": "code",
   "execution_count": null,
   "metadata": {},
   "outputs": [],
   "source": [
    "result = dom.parseString(resp.content).documentElement\n",
    "print(result.toprettyxml(indent='  '))"
   ]
  },
  {
   "cell_type": "code",
   "execution_count": null,
   "metadata": {},
   "outputs": [],
   "source": [
    "\n",
    "\n",
    "for content_block in get_content_blocks(result):\n",
    "    print(content_block.tagName)"
   ]
  },
  {
   "cell_type": "code",
   "execution_count": null,
   "metadata": {},
   "outputs": [],
   "source": [
    "\n",
    "\n",
    "all_contents = []\n",
    "for content_block in get_content_blocks(result):\n",
    "    for content in get_contents(content_block):\n",
    "        all_contents.append(content)\n"
   ]
  },
  {
   "cell_type": "code",
   "execution_count": null,
   "metadata": {},
   "outputs": [],
   "source": [
    "\n",
    "\n",
    "all_stixes = []\n",
    "for content in all_contents:\n",
    "    for stix in get_stixes(content):\n",
    "        all_stixes.append(stix)\n",
    "        print(stix.toprettyxml())"
   ]
  },
  {
   "cell_type": "code",
   "execution_count": null,
   "metadata": {},
   "outputs": [],
   "source": [
    "stixes = {}\n",
    "for stix in all_stixes:\n",
    "    stixes[stix.getAttribute('id')] = stix\n",
    "len(stixes)"
   ]
  },
  {
   "cell_type": "code",
   "execution_count": null,
   "metadata": {},
   "outputs": [],
   "source": [
    "stixes"
   ]
  },
  {
   "cell_type": "code",
   "execution_count": null,
   "metadata": {},
   "outputs": [],
   "source": [
    "print(f'there are {len(all_stixes)} STIXes')\n",
    "# for child in root.getchildren():\n",
    "#     print(child.tag)"
   ]
  },
  {
   "cell_type": "code",
   "execution_count": null,
   "metadata": {},
   "outputs": [],
   "source": [
    "with open ('tmp.xml', 'w') as writer:\n",
    "    writer.write(str(resp.content))\n"
   ]
  },
  {
   "cell_type": "markdown",
   "metadata": {},
   "source": [
    "## Scratch book"
   ]
  },
  {
   "cell_type": "code",
   "execution_count": null,
   "metadata": {},
   "outputs": [],
   "source": [
    "\n",
    "    \n",
    "for i in range(0,len(result.childNodes)):\n",
    "    node = result.childNodes[i]\n",
    "    if node.nodeType != node.TEXT_NODE:\n",
    "        print(node.tagName + \":\")\n",
    "        for attrName, attrValue in node.attributes.items():\n",
    "            print('\\t', attrName, attrValue)\n",
    "        for j in range (0, len(node.childNodes)):\n",
    "            child_node = node.childNodes[j]\n",
    "            if child_node.nodeType != node.TEXT_NODE:\n",
    "                print('\\t', child_node.tagName + ':')\n",
    "                for attrName, attrValue in child_node.attributes.items():\n",
    "                    print('\\t\\t', attrName, attrValue)\n"
   ]
  },
  {
   "cell_type": "code",
   "execution_count": null,
   "metadata": {},
   "outputs": [],
   "source": [
    "json_obj = {}\n",
    "\n",
    "root = ET.fromstring(resp.content)\n",
    "print(remove_xmlns(root.tag))\n",
    "for child in root.getchildren():\n",
    "    tag_name = remove_xmlns(child.tag)\n",
    "    print(f'  {tag_name}')\n",
    "    xml_attribs_to_json(child)\n",
    "    print(child.attrib)\n",
    "#     print(remove_xmlns(child.tag), remove_xmlns(child.attrib))"
   ]
  },
  {
   "cell_type": "code",
   "execution_count": null,
   "metadata": {},
   "outputs": [],
   "source": [
    "dir(resp)"
   ]
  },
  {
   "cell_type": "code",
   "execution_count": null,
   "metadata": {},
   "outputs": [],
   "source": []
  },
  {
   "cell_type": "code",
   "execution_count": null,
   "metadata": {},
   "outputs": [],
   "source": [
    "dir(root)"
   ]
  },
  {
   "cell_type": "code",
   "execution_count": null,
   "metadata": {},
   "outputs": [],
   "source": [
    "dir(root.getchildren()[0].attrib)\n",
    "# root.getchildren()[0].attrib"
   ]
  },
  {
   "cell_type": "code",
   "execution_count": null,
   "metadata": {},
   "outputs": [],
   "source": [
    "data = '<Poll_Request collection_name=\"guest.dataForLast_7daysOnly\" message_id=\"1\" xmlns:taxii_11=\"http://taxii.mitre.org/messages/taxii_xml_binding-1.1\"> \\\n",
    "  <Exclusive_Begin_Timestamp>2021-01-01T00:00:00Z</Exclusive_Begin_Timestamp> \\\n",
    "  <Inclusive_End_Timestamp>2021-01-10T23:00:00Z</Inclusive_End_Timestamp> \\\n",
    "  <Poll_Parameters allow_asynch=\"false\"> \\\n",
    "    <Response_Type>FULL</Response_Type> \\\n",
    "  </Poll_Parameters> \\\n",
    "</Poll_Request>'\n",
    "\n",
    "# data = '<taxii_11:Poll_Request \\\n",
    "#     xmlns:taxii_11=\"http://taxii.mitre.org/messages/taxii_xml_binding-1.1\" \\\n",
    "#     message_id=\"1\" \\\n",
    "#     collection_name=\"guest.dataForLast_7daysOnly\"> \\\n",
    "#     <taxii_11:Exclusive_Begin_Timestamp>2021-01-01T00:00:00Z</taxii_11:Exclusive_Begin_Timestamp> \\\n",
    "#     <taxii_11:Inclusive_End_Timestamp>2021-01-10T23:00:00Z</taxii_11:Inclusive_End_Timestamp> \\\n",
    "#     <taxii_11:Poll_Parameters allow_asynch=\"false\"> \\\n",
    "#         <taxii_11:Response_Type>FULL</taxii_11:Response_Type> \\\n",
    "#     </taxii_11:Poll_Parameters> \\\n",
    "# </taxii_11:Poll_Request>'\n",
    "\n",
    "\n",
    "resp = requests.post(get_poll_url(), data=data, headers=headers)\n",
    "resp.content"
   ]
  },
  {
   "cell_type": "code",
   "execution_count": null,
   "metadata": {},
   "outputs": [],
   "source": [
    "misp_upload_stix_result = '{\\n    \"Event\": {\\n        \"id\": \"475\",\\n        \"orgc_id\": \"1\",\\n        \"org_id\": \"1\",\\n        \"date\": \"2021-01-20\",\\n        \"threat_level_id\": \"4\",\\n        \"info\": \"Imported from external STIX event\",\\n        \"published\": false,\\n        \"uuid\": \"8ef9f50b-8f75-4c97-987a-8a198a0eaea6\",\\n        \"attribute_count\": \"2\",\\n        \"analysis\": \"0\",\\n        \"timestamp\": \"1611254908\",\\n        \"distribution\": \"1\",\\n        \"proposal_email_lock\": false,\\n        \"user_id\": \"8\",\\n        \"locked\": false,\\n        \"publish_timestamp\": \"0\",\\n        \"sharing_group_id\": \"0\",\\n        \"disable_correlation\": false,\\n        \"extends_uuid\": \"\",\\n        \"event_creator_email\": \"kiet.tran@us-dde.net\"\\n    },\\n    \"User\": {\\n        \"email\": \"kiet.tran@us-dde.net\",\\n        \"id\": \"8\"\\n    },\\n    \"ThreatLevel\": {\\n        \"name\": \"Undefined\",\\n        \"id\": \"4\"\\n    },\\n    \"Attribute\": [],\\n    \"ShadowAttribute\": [],\\n    \"Object\": [\\n        {\\n            \"id\": \"27\",\\n            \"name\": \"original-imported-file\",\\n            \"meta-category\": \"file\",\\n            \"description\": \"Object describing the original file used to import data in MISP.\",\\n            \"template_uuid\": \"4cd560e9-2cfe-40a1-9964-7b2e797ecac5\",\\n            \"template_version\": \"2\",\\n            \"event_id\": \"475\",\\n            \"uuid\": \"29c34a15-d46f-45b4-9d08-b3d3eb533329\",\\n            \"timestamp\": \"1611254908\",\\n            \"distribution\": \"5\",\\n            \"sharing_group_id\": \"0\",\\n            \"comment\": \"\",\\n            \"deleted\": false,\\n            \"first_seen\": null,\\n            \"last_seen\": null,\\n            \"ObjectReference\": [],\\n            \"Attribute\": [\\n                {\\n                    \"id\": \"36591\",\\n                    \"type\": \"attachment\",\\n                    \"category\": \"External analysis\",\\n                    \"to_ids\": false,\\n                    \"uuid\": \"d33de582-0796-44fd-8e21-c8b2d75b2884\",\\n                    \"event_id\": \"475\",\\n                    \"distribution\": \"5\",\\n                    \"timestamp\": \"1611254908\",\\n                    \"comment\": \"\",\\n                    \"sharing_group_id\": \"0\",\\n                    \"deleted\": false,\\n                    \"disable_correlation\": true,\\n                    \"object_id\": \"27\",\\n                    \"object_relation\": \"imported-sample\",\\n                    \"first_seen\": null,\\n                    \"last_seen\": null,\\n                    \"value\": \"uploaded_stix_file.xml\",\\n                    \"AttributeTag\": [],\\n                    \"Galaxy\": [],\\n                    \"ShadowAttribute\": []\\n                },\\n                {\\n                    \"id\": \"36592\",\\n                    \"type\": \"text\",\\n                    \"category\": \"Other\",\\n                    \"to_ids\": false,\\n                    \"uuid\": \"095518ac-de7b-42ed-8177-fb8f8ddf1a8a\",\\n                    \"event_id\": \"475\",\\n                    \"distribution\": \"5\",\\n                    \"timestamp\": \"1611254908\",\\n                    \"comment\": \"\",\\n                    \"sharing_group_id\": \"0\",\\n                    \"deleted\": false,\\n                    \"disable_correlation\": true,\\n                    \"object_id\": \"27\",\\n                    \"object_relation\": \"format\",\\n                    \"first_seen\": null,\\n                    \"last_seen\": null,\\n                    \"value\": \"STIX 1.1\",\\n                    \"AttributeTag\": [],\\n                    \"Galaxy\": [],\\n                    \"ShadowAttribute\": []\\n                }\\n            ]\\n        }\\n    ],\\n    \"EventTag\": [\\n        {\\n            \"id\": \"2236\",\\n            \"event_id\": \"475\",\\n            \"tag_id\": \"14\",\\n            \"local\": false,\\n            \"Tag\": {\\n                \"id\": \"14\",\\n                \"name\": \"tlp:white\",\\n                \"colour\": \"#ffffff\",\\n                \"exportable\": true,\\n                \"org_id\": \"0\",\\n                \"user_id\": \"0\",\\n                \"hide_tag\": false,\\n                \"numerical_value\": null,\\n                \"local\": 0\\n            }\\n        }\\n    ],\\n    \"Orgc\": {\\n        \"id\": \"1\",\\n        \"name\": \"CSS\",\\n        \"uuid\": \"9b2f73af-e32f-43c0-8830-cee7414b9bb7\",\\n        \"local\": true\\n    },\\n    \"Org\": {\\n        \"id\": \"1\",\\n        \"name\": \"CSS\",\\n        \"uuid\": \"9b2f73af-e32f-43c0-8830-cee7414b9bb7\",\\n        \"local\": true\\n    },\\n    \"Galaxy\": [],\\n    \"RelatedEvent\": [],\\n    \"Sighting\": []\\n}'\n",
    "\n",
    "print(misp_upload_stix_result)  "
   ]
  },
  {
   "cell_type": "code",
   "execution_count": null,
   "metadata": {},
   "outputs": [],
   "source": []
  }
 ],
 "metadata": {
  "kernelspec": {
   "display_name": "Python 3",
   "language": "python",
   "name": "python3"
  },
  "language_info": {
   "codemirror_mode": {
    "name": "ipython",
    "version": 3
   },
   "file_extension": ".py",
   "mimetype": "text/x-python",
   "name": "python",
   "nbconvert_exporter": "python",
   "pygments_lexer": "ipython3",
   "version": "3.6.9"
  }
 },
 "nbformat": 4,
 "nbformat_minor": 2
}
