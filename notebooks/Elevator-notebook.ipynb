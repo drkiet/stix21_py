{
 "cells": [
  {
   "cell_type": "markdown",
   "metadata": {},
   "source": [
    "# Elevator notebook\n",
    "\n",
    "## Purpose\n",
    "From a list of files, elevate the content from 1.1.1 to 2.1\n",
    "\n",
    "## Prerequisites:\n",
    "Need to have a list of stix 1.1.1 xml files\n",
    "\n",
    "## Instructions and notes\n",
    "You would need to install stix2-elevator by running this command: \n",
    "    \n",
    "```shell\n",
    "pip3 install --user maec'\n",
    "pip3 install --user stix2-validator\n",
    "```"
   ]
  },
  {
   "cell_type": "code",
   "execution_count": 22,
   "metadata": {},
   "outputs": [],
   "source": [
    "# import json\n",
    "from stix2elevator import elevate\n",
    "from stix2elevator.options import initialize_options, set_option_value"
   ]
  },
  {
   "cell_type": "code",
   "execution_count": 23,
   "metadata": {},
   "outputs": [],
   "source": [
    "stix111_dir = '/tmp/stix1.1'\n",
    "stix21_dir  = '/tmp/stix2.1'\n"
   ]
  },
  {
   "cell_type": "code",
   "execution_count": 26,
   "metadata": {},
   "outputs": [
    {
     "name": "stdout",
     "output_type": "stream",
     "text": [
      "<stix:STIX_Package id=\"edge:Package-ffc0d062-de97-4d33-b5a5-96b9bb7938ce\" timestamp=\"2021-04-24T11:27:47.964347+00:00\" version=\"1.1.1\" xmlns:TOUMarking=\"http://data-marking.mitre.org/extensions/MarkingStructure#Terms_Of_Use-1\" xmlns:cybox=\"http://cybox.mitre.org/cybox-2\" xmlns:cyboxCommon=\"http://cybox.mitre.org/common-2\" xmlns:cyboxVocabs=\"http://cybox.mitre.org/default_vocabularies-2\" xmlns:edge=\"http://soltra.com/\" xmlns:indicator=\"http://stix.mitre.org/Indicator-2\" xmlns:marking=\"http://data-marking.mitre.org/Marking-1\" xmlns:opensource=\"http://hailataxii.com\" xmlns:simpleMarking=\"http://data-marking.mitre.org/extensions/MarkingStructure#Simple-1\" xmlns:stix=\"http://stix.mitre.org/stix-1\" xmlns:stixCommon=\"http://stix.mitre.org/common-1\" xmlns:stixVocabs=\"http://stix.mitre.org/default_vocabularies-1\" xmlns:tlpMarking=\"http://data-marking.mitre.org/extensions/MarkingStructure#TLP-1\" xmlns:ttp=\"http://stix.mitre.org/TTP-1\" xmlns:xsi=\"http://www.w3.org/2001/XMLSchema-instance\">\n",
      "\t\n",
      "    \n",
      "\t<stix:STIX_Header>\n",
      "\t\t\n",
      "        \n",
      "\t\t<stix:Handling>\n",
      "\t\t\t\n",
      "            \n",
      "\t\t\t<marking:Marking>\n",
      "\t\t\t\t\n",
      "                \n",
      "\t\t\t\t<marking:Controlled_Structure>../../../../descendant-or-self::node()</marking:Controlled_Structure>\n",
      "\t\t\t\t\n",
      "                \n",
      "\t\t\t\t<marking:Marking_Structure color=\"WHITE\" xsi:type=\"tlpMarking:TLPMarkingStructureType\"/>\n",
      "\t\t\t\t\n",
      "                \n",
      "\t\t\t\t<marking:Marking_Structure xsi:type=\"TOUMarking:TermsOfUseMarkingStructureType\">\n",
      "\t\t\t\t\t\n",
      "                    \n",
      "\t\t\t\t\t<TOUMarking:Terms_Of_Use>TBD</TOUMarking:Terms_Of_Use>\n",
      "\t\t\t\t\t\n",
      "                \n",
      "\t\t\t\t</marking:Marking_Structure>\n",
      "\t\t\t\t\n",
      "                \n",
      "\t\t\t\t<marking:Marking_Structure xsi:type=\"simpleMarking:SimpleMarkingStructureType\">\n",
      "\t\t\t\t\t\n",
      "                    \n",
      "\t\t\t\t\t<simpleMarking:Statement>Unclassified (Public)</simpleMarking:Statement>\n",
      "\t\t\t\t\t\n",
      "                \n",
      "\t\t\t\t</marking:Marking_Structure>\n",
      "\t\t\t\t\n",
      "            \n",
      "\t\t\t</marking:Marking>\n",
      "\t\t\t\n",
      "        \n",
      "\t\t</stix:Handling>\n",
      "\t\t\n",
      "    \n",
      "\t</stix:STIX_Header>\n",
      "\t\n",
      "    \n",
      "\t<stix:Indicators>\n",
      "\t\t\n",
      "        \n",
      "\t\t<stix:Indicator id=\"opensource:indicator-d9f76555-ce15-40d6-9656-f26f70d177db\" timestamp=\"2021-04-22T15:10:45.082947+00:00\" version=\"2.1.1\" xsi:type=\"indicator:IndicatorType\">\n",
      "\t\t\t\n",
      "            \n",
      "\t\t\t<indicator:Title>phishTank.com id:7079737 with malicious URL:https://schoolswithoutwall...</indicator:Title>\n",
      "\t\t\t\n",
      "            \n",
      "\t\t\t<indicator:Type xsi:type=\"stixVocabs:IndicatorTypeVocab-1.1\">URL Watchlist</indicator:Type>\n",
      "\t\t\t\n",
      "            \n",
      "\t\t\t<indicator:Description>This URL:[https://schoolswithoutwalls.co.uk/wp-content/uploads/2021/raiffcz/raiffcz/e9fe454ce1d83f37883d7cbcbc06cde2] was identified by phishtank.com as part of a phishing email. This URL appears to still be online as of 2021-04-22T05:04:13+00:00. More detailed infomation can be found at http://www.phishtank.com/phish_detail.php?phish_id=7079737</indicator:Description>\n",
      "\t\t\t\n",
      "            \n",
      "\t\t\t<indicator:Short_Description>phishTank.com id:7079737 with malicious URL:https://schoolswithoutwall...</indicator:Short_Description>\n",
      "\t\t\t\n",
      "            \n",
      "\t\t\t<indicator:Observable idref=\"opensource:Observable-61d82849-1ebd-4d52-a5ed-f140d085236d\">\n",
      "            </indicator:Observable>\n",
      "\t\t\t\n",
      "            \n",
      "\t\t\t<indicator:Indicated_TTP>\n",
      "\t\t\t\t\n",
      "                \n",
      "\t\t\t\t<stixCommon:TTP idref=\"opensource:ttp-c819f3ef-fbc3-4077-8d56-bf619c8d9b29\" version=\"1.1.1\" xsi:type=\"ttp:TTPType\"/>\n",
      "\t\t\t\t\n",
      "            \n",
      "\t\t\t</indicator:Indicated_TTP>\n",
      "\t\t\t\n",
      "            \n",
      "\t\t\t<indicator:Confidence timestamp=\"2021-04-22T15:10:45.082973+00:00\">\n",
      "\t\t\t\t\n",
      "                \n",
      "\t\t\t\t<stixCommon:Value xsi:type=\"stixVocabs:HighMediumLowVocab-1.0\">High</stixCommon:Value>\n",
      "\t\t\t\t\n",
      "            \n",
      "\t\t\t</indicator:Confidence>\n",
      "\t\t\t\n",
      "            \n",
      "\t\t\t<indicator:Producer>\n",
      "\t\t\t\t\n",
      "                \n",
      "\t\t\t\t<stixCommon:Identity id=\"opensource:Identity-de74fb81-97f1-4443-b76a-72d342da10cc\">\n",
      "\t\t\t\t\t\n",
      "                    \n",
      "\t\t\t\t\t<stixCommon:Name>http://www.phishtank.com/</stixCommon:Name>\n",
      "\t\t\t\t\t\n",
      "                \n",
      "\t\t\t\t</stixCommon:Identity>\n",
      "\t\t\t\t\n",
      "                \n",
      "\t\t\t\t<stixCommon:Time>\n",
      "\t\t\t\t\t\n",
      "                    \n",
      "\t\t\t\t\t<cyboxCommon:Produced_Time>2021-04-22T05:04:13+00:00</cyboxCommon:Produced_Time>\n",
      "\t\t\t\t\t\n",
      "                    \n",
      "\t\t\t\t\t<cyboxCommon:Received_Time>2021-04-22T15:05:49+00:00</cyboxCommon:Received_Time>\n",
      "\t\t\t\t\t\n",
      "                \n",
      "\t\t\t\t</stixCommon:Time>\n",
      "\t\t\t\t\n",
      "            \n",
      "\t\t\t</indicator:Producer>\n",
      "\t\t\t\n",
      "        \n",
      "\t\t</stix:Indicator>\n",
      "\t\t\n",
      "    \n",
      "\t</stix:Indicators>\n",
      "\t\n",
      "\n",
      "</stix:STIX_Package>\n",
      "\n",
      "Results produced by the stix2-elevator are not for production purposes.\n"
     ]
    },
    {
     "name": "stderr",
     "output_type": "stream",
     "text": [
      "[stix2elevator.options] [201] [WARNING] [2021-04-25 06:51:12,849] Results produced by the stix2-elevator may generate warning messages which should be investigated.\n",
      "[stix2elevator.options] [902] [INFO   ] [2021-04-25 06:51:12,851] Using parent object timestamp on TLPMarkingStructure\n",
      "[stix2elevator.options] [212] [INFO   ] [2021-04-25 06:51:12,852] Created Marking Structure for TLPMarkingStructure\n",
      "[stix2elevator.options] [902] [INFO   ] [2021-04-25 06:51:12,853] Using parent object timestamp on TLPMarkingStructure\n",
      "[stix2elevator.options] [212] [INFO   ] [2021-04-25 06:51:12,854] Created Marking Structure for TLPMarkingStructure\n",
      "[stix2elevator.options] [625] [INFO   ] [2021-04-25 06:51:12,854] Found same marking structure MarkingSpecification, using marking-definition--613f2e26-407d-48c7-9eca-b8e91df99dc9\n",
      "[stix2elevator.options] [902] [INFO   ] [2021-04-25 06:51:12,855] Using parent object timestamp on TermsOfUseMarkingStructure\n",
      "[stix2elevator.options] [212] [INFO   ] [2021-04-25 06:51:12,856] Created Marking Structure for TermsOfUseMarkingStructure\n",
      "[stix2elevator.options] [902] [INFO   ] [2021-04-25 06:51:12,857] Using parent object timestamp on TLPMarkingStructure\n",
      "[stix2elevator.options] [212] [INFO   ] [2021-04-25 06:51:12,858] Created Marking Structure for TLPMarkingStructure\n",
      "[stix2elevator.options] [625] [INFO   ] [2021-04-25 06:51:12,860] Found same marking structure MarkingSpecification, using marking-definition--613f2e26-407d-48c7-9eca-b8e91df99dc9\n",
      "[stix2elevator.options] [902] [INFO   ] [2021-04-25 06:51:12,861] Using parent object timestamp on TermsOfUseMarkingStructure\n",
      "[stix2elevator.options] [212] [INFO   ] [2021-04-25 06:51:12,861] Created Marking Structure for TermsOfUseMarkingStructure\n",
      "[stix2elevator.options] [625] [INFO   ] [2021-04-25 06:51:12,862] Found same marking structure MarkingSpecification, using marking-definition--662a8466-4b40-4a34-ad09-935fe173c7a6\n",
      "[stix2elevator.options] [902] [INFO   ] [2021-04-25 06:51:12,864] Using parent object timestamp on SimpleMarkingStructure\n",
      "[stix2elevator.options] [212] [INFO   ] [2021-04-25 06:51:12,864] Created Marking Structure for SimpleMarkingStructure\n",
      "[stix2elevator.options] [902] [INFO   ] [2021-04-25 06:51:12,865] Using parent object timestamp on SimpleMarkingStructure\n",
      "[stix2elevator.options] [212] [INFO   ] [2021-04-25 06:51:12,867] Created Marking Structure for SimpleMarkingStructure\n",
      "[stix2elevator.options] [625] [INFO   ] [2021-04-25 06:51:12,868] Found same marking structure MarkingSpecification, using marking-definition--5dd2cd04-7755-45a0-aafe-15dad23de0c6\n",
      "[stix2elevator.options] [902] [INFO   ] [2021-04-25 06:51:12,869] Using parent object timestamp on TermsOfUseMarkingStructure\n",
      "[stix2elevator.options] [212] [INFO   ] [2021-04-25 06:51:12,870] Created Marking Structure for TermsOfUseMarkingStructure\n",
      "[stix2elevator.options] [625] [INFO   ] [2021-04-25 06:51:12,870] Found same marking structure MarkingSpecification, using marking-definition--662a8466-4b40-4a34-ad09-935fe173c7a6\n",
      "[stix2elevator.options] [902] [INFO   ] [2021-04-25 06:51:12,873] Using parent object timestamp on SimpleMarkingStructure\n",
      "[stix2elevator.options] [212] [INFO   ] [2021-04-25 06:51:12,874] Created Marking Structure for SimpleMarkingStructure\n",
      "[stix2elevator.options] [625] [INFO   ] [2021-04-25 06:51:12,875] Found same marking structure MarkingSpecification, using marking-definition--5dd2cd04-7755-45a0-aafe-15dad23de0c6\n",
      "[stix2elevator.options] [307] [WARNING] [2021-04-25 06:51:12,876] Missing property 'short_description' of indicator--d9f76555-ce15-40d6-9656-f26f70d177db is ignored\n",
      "[stix2elevator.options] [903] [WARNING] [2021-04-25 06:51:12,878] No valid time position information available in indicator--d9f76555-ce15-40d6-9656-f26f70d177db, using parent timestamp\n",
      "[stix2elevator.options] [902] [INFO   ] [2021-04-25 06:51:12,879] Using parent object timestamp on opensource:Identity-de74fb81-97f1-4443-b76a-72d342da10cc\n",
      "[stix2elevator.options] [902] [INFO   ] [2021-04-25 06:51:12,880] Using parent object timestamp on with idref opensource:ttp-c819f3ef-fbc3-4077-8d56-bf619c8d9b29\n",
      "[stix2elevator.options] [604] [ERROR  ] [2021-04-25 06:51:12,882] Unable to determine the STIX 2.x type for opensource:ttp-c819f3ef-fbc3-4077-8d56-bf619c8d9b29\n",
      "[stix2elevator.options] [602] [ERROR  ] [2021-04-25 06:51:12,883] Dangling target reference opensource:ttp-c819f3ef-fbc3-4077-8d56-bf619c8d9b29 in relationship--8c2451b1-78dc-4fc2-b53a-737f154f14f4\n",
      "[stix2elevator.options] [610] [WARNING] [2021-04-25 06:51:12,884] No object mapped to opensource:ttp-c819f3ef-fbc3-4077-8d56-bf619c8d9b29\n",
      "[stix2elevator.options] [602] [ERROR  ] [2021-04-25 06:51:12,885] Dangling target reference opensource:ttp-c819f3ef-fbc3-4077-8d56-bf619c8d9b29 in relationship--8c2451b1-78dc-4fc2-b53a-737f154f14f4\n",
      "[stix2elevator.options] [205] [ERROR  ] [2021-04-25 06:51:12,886] At least one PLACEHOLDER idref was not resolved in indicator--d9f76555-ce15-40d6-9656-f26f70d177db\n",
      "[stix2elevator.options] [203] [ERROR  ] [2021-04-25 06:51:12,886] Placeholder opensource:Observable-61d82849-1ebd-4d52-a5ed-f140d085236d should be resolved\n"
     ]
    },
    {
     "name": "stdout",
     "output_type": "stream",
     "text": [
      "*** error ***\n"
     ]
    },
    {
     "ename": "NameError",
     "evalue": "name 'results' is not defined",
     "output_type": "error",
     "traceback": [
      "\u001b[0;31m---------------------------------------------------------------------------\u001b[0m",
      "\u001b[0;31mNameError\u001b[0m                                 Traceback (most recent call last)",
      "\u001b[0;32m<ipython-input-26-32667fafbd5d>\u001b[0m in \u001b[0;36m<module>\u001b[0;34m\u001b[0m\n\u001b[1;32m     19\u001b[0m \u001b[0;32mexcept\u001b[0m\u001b[0;34m:\u001b[0m\u001b[0;34m\u001b[0m\u001b[0;34m\u001b[0m\u001b[0m\n\u001b[1;32m     20\u001b[0m     \u001b[0mprint\u001b[0m\u001b[0;34m(\u001b[0m\u001b[0;34m'*** error ***'\u001b[0m\u001b[0;34m)\u001b[0m\u001b[0;34m\u001b[0m\u001b[0;34m\u001b[0m\u001b[0m\n\u001b[0;32m---> 21\u001b[0;31m \u001b[0mprint\u001b[0m\u001b[0;34m(\u001b[0m\u001b[0mresults\u001b[0m\u001b[0;34m)\u001b[0m\u001b[0;34m\u001b[0m\u001b[0;34m\u001b[0m\u001b[0m\n\u001b[0m",
      "\u001b[0;31mNameError\u001b[0m: name 'results' is not defined"
     ]
    }
   ],
   "source": [
    "# scratch paper\n",
    "\n",
    "xml_filename = './Package-ffc0d062-de97-4d33-b5a5-96b9bb7938ce.xml'\n",
    "package = ''\n",
    "with open (xml_filename, 'r') as reader:\n",
    "    line = reader.readline()\n",
    "    while line:\n",
    "        package += line\n",
    "        line = reader.readline()\n",
    "        \n",
    "# package = package.replace('opensource:','')\n",
    "print(package)\n",
    "initialize_options()\n",
    "set_option_value(\"missing-policy\", \"ignore\")\n",
    "set_option_value(\"error-policy\", \"no_policy\")\n",
    "set_option_value(\"spec_version\", \"2.1\")\n",
    "try: \n",
    "    results = elevate(package)\n",
    "except:\n",
    "    print('*** error ***')\n",
    "print(results)"
   ]
  },
  {
   "cell_type": "code",
   "execution_count": 6,
   "metadata": {},
   "outputs": [
    {
     "ename": "NameError",
     "evalue": "name 'results' is not defined",
     "output_type": "error",
     "traceback": [
      "\u001b[0;31m---------------------------------------------------------------------------\u001b[0m",
      "\u001b[0;31mNameError\u001b[0m                                 Traceback (most recent call last)",
      "\u001b[0;32m<ipython-input-6-100f62972f2f>\u001b[0m in \u001b[0;36m<module>\u001b[0;34m\u001b[0m\n\u001b[0;32m----> 1\u001b[0;31m \u001b[0mresults\u001b[0m\u001b[0;34m\u001b[0m\u001b[0;34m\u001b[0m\u001b[0m\n\u001b[0m",
      "\u001b[0;31mNameError\u001b[0m: name 'results' is not defined"
     ]
    }
   ],
   "source": [
    "results"
   ]
  },
  {
   "cell_type": "code",
   "execution_count": 9,
   "metadata": {},
   "outputs": [
    {
     "data": {
      "text/plain": [
       "<Element '{http://stix.mitre.org/stix-1}STIX_Package' at 0x7efe29928a48>"
      ]
     },
     "execution_count": 9,
     "metadata": {},
     "output_type": "execute_result"
    }
   ],
   "source": [
    "root"
   ]
  },
  {
   "cell_type": "code",
   "execution_count": null,
   "metadata": {},
   "outputs": [],
   "source": []
  }
 ],
 "metadata": {
  "kernelspec": {
   "display_name": "Python 3",
   "language": "python",
   "name": "python3"
  },
  "language_info": {
   "codemirror_mode": {
    "name": "ipython",
    "version": 3
   },
   "file_extension": ".py",
   "mimetype": "text/x-python",
   "name": "python",
   "nbconvert_exporter": "python",
   "pygments_lexer": "ipython3",
   "version": "3.6.9"
  }
 },
 "nbformat": 4,
 "nbformat_minor": 2
}
